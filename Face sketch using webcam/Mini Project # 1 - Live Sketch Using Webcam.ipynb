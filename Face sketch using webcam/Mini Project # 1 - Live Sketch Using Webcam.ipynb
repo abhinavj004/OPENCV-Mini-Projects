{
 "cells": [
  {
   "cell_type": "markdown",
   "metadata": {},
   "source": [
    "**Mini Project # 1 - Live Sketch Using Webcam**\n",
    "\n",
    "# Steps Formation Of Sketch::\n",
    "\n",
    "## 1) Grayscaling\n",
    "\n",
    "#### Grayscaling is process by which an image is converted from a full color to shades of grey (black & white)\n",
    "\n",
    "In OpenCV, many functions grayscale images before processing. This is done because it simplifies the image, acting almost as a noise reduction and increasing processing time as there is less information in the image.\n",
    "\n",
    "## 2)Cleaning of image\n",
    "#### Cleaning of image can be preformed by Gaussian blur method.There are some other method present in opencv library also.\n",
    "\n",
    "In the GaussianBlur function , we uses the Gaussian window which emphasise more on points around the center. \n",
    "\n",
    "## 3) Edge Extraction\n",
    "##### Canny Edge Detection uses gradient values as thresholds \n",
    "\n",
    "Here,we need to provide two values: threshold1 and threshold2. Any gradient value larger than threshold2 is considered to be an edge. Any value below threshold1 is considered not to be an edge. \n",
    "\n",
    "\n",
    "Values in between threshold1 and threshold2 are either classiﬁed as edges or non-edges based on how their intensities are “connected”.\n",
    "\n",
    "In this case, any gradient values below 60 are considered non-edges\n",
    "\n",
    "\n",
    "#whereas any values above 120 are considered edges.\n",
    "#### Here we can change the parameters of cv2.canny() function to get fine edges.\n",
    "\n",
    "## 4) Threshold and Binary Inversion\n",
    "\n",
    "#### In thresholding, we convert a grey scale image to it's binary form"
   ]
  },
  {
   "cell_type": "code",
   "execution_count": 19,
   "metadata": {},
   "outputs": [],
   "source": [
    "import cv2\n",
    "import numpy as np\n",
    "\n",
    "# Our sketch generating function\n",
    "def sketch(image):\n",
    "    # Convert image to grayscale\n",
    "    img_gray = cv2.cvtColor(image, cv2.COLOR_BGR2GRAY)\n",
    "    \n",
    "    # Clean up image using Guassian Blur\n",
    "    img_gray_blur = cv2.GaussianBlur(img_gray, (5,5), 0)\n",
    "    \n",
    "    # Extract edges\n",
    "    canny_edges = cv2.Canny(img_gray_blur, 10, 70)\n",
    "    \n",
    "    # Do an invert binarize the image \n",
    "    ret, mask = cv2.threshold(canny_edges, 70, 255, cv2.THRESH_BINARY_INV)\n",
    "    return mask\n",
    "\n",
    "\n",
    "# Initialize webcam, cap is the object provided by VideoCapture\n",
    "# It contains a boolean indicating if it was sucessful (ret)\n",
    "# It also contains the images collected from the webcam (frame)\n",
    "cap = cv2.VideoCapture(0)\n",
    "\n",
    "while True:\n",
    "    ret, frame = cap.read()\n",
    "    cv2.imshow('Our Live Sketcher', sketch(frame))\n",
    "    if cv2.waitKey(1) == 13: #13 is the Enter Key\n",
    "        break\n",
    "        \n",
    "# Release camera and close windows\n",
    "cap.release()\n",
    "cv2.destroyAllWindows()"
   ]
  },
  {
   "cell_type": "code",
   "execution_count": null,
   "metadata": {},
   "outputs": [],
   "source": []
  }
 ],
 "metadata": {
  "kernelspec": {
   "display_name": "Python 3",
   "language": "python",
   "name": "python3"
  },
  "language_info": {
   "codemirror_mode": {
    "name": "ipython",
    "version": 3
   },
   "file_extension": ".py",
   "mimetype": "text/x-python",
   "name": "python",
   "nbconvert_exporter": "python",
   "pygments_lexer": "ipython3",
   "version": "3.6.5"
  }
 },
 "nbformat": 4,
 "nbformat_minor": 2
}
